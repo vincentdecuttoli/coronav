{
 "cells": [
  {
   "cell_type": "markdown",
   "metadata": {},
   "source": [
    "# Exploration de la source de données"
   ]
  },
  {
   "cell_type": "code",
   "execution_count": 8,
   "metadata": {},
   "outputs": [],
   "source": [
    "import pandas as pd\n",
    "from datetime import date, timedelta\n",
    "import os"
   ]
  },
  {
   "cell_type": "code",
   "execution_count": 9,
   "metadata": {},
   "outputs": [],
   "source": [
    "#Racine des fichiers quotidiens\n",
    "BASE_URL = 'https://raw.githubusercontent.com/CSSEGISandData/COVID-19/master/csse_covid_19_data/csse_covid_19_daily_reports/{}.csv'\n",
    "\n",
    "#Dates de disponibilité des fichiers\n",
    "START_DATE = date(2020, 1, 22) #start date\n",
    "END_DATE = date(2020, 3, 12) #End date\n",
    "\n",
    "#Répertoire de sauvegarde des fichiers bruts\n",
    "RAWFILES_DIR = '../data/raw/'\n",
    "PROCESSED_DIR = '../data/processed/'"
   ]
  },
  {
   "cell_type": "markdown",
   "metadata": {},
   "source": [
    "## Boucle de récupération des fichiers"
   ]
  },
  {
   "cell_type": "code",
   "execution_count": 10,
   "metadata": {},
   "outputs": [],
   "source": [
    "delta = END_DATE - START_DATE \n",
    "\n",
    "for i in range(delta.days + 1):\n",
    "    day = START_DATE + timedelta(days=i)\n",
    "    day_label = day.strftime(\"%m-%d-%Y\")\n",
    "    virus_df = pd.read_csv(BASE_URL.format(day_label), sep=',', parse_dates=['Last Update'])\n",
    "    virus_df.to_csv(os.path.join(RAWFILES_DIR, day_label + '.csv'), index=False)\n",
    "    \n",
    "    #print(day_label)"
   ]
  },
  {
   "cell_type": "code",
   "execution_count": 11,
   "metadata": {},
   "outputs": [
    {
     "data": {
      "text/plain": [
       "Province/State            object\n",
       "Country/Region            object\n",
       "Last Update       datetime64[ns]\n",
       "Confirmed                  int64\n",
       "Deaths                     int64\n",
       "Recovered                  int64\n",
       "Latitude                 float64\n",
       "Longitude                float64\n",
       "dtype: object"
      ]
     },
     "execution_count": 11,
     "metadata": {},
     "output_type": "execute_result"
    }
   ],
   "source": [
    "virus_df.dtypes"
   ]
  },
  {
   "cell_type": "markdown",
   "metadata": {},
   "source": [
    "## Constitution de la table de références lat/long"
   ]
  },
  {
   "cell_type": "code",
   "execution_count": null,
   "metadata": {},
   "outputs": [],
   "source": []
  },
  {
   "cell_type": "code",
   "execution_count": 12,
   "metadata": {},
   "outputs": [],
   "source": [
    "import glob\n",
    "\n",
    "df_list = []\n",
    "\n",
    "#Lecture des fichiers récupérés et sélection de ceux qui ont une lat/long\n",
    "for file in glob.glob(os.path.join(RAWFILES_DIR, '*.csv')):\n",
    "    virus_df = pd.read_csv(file, sep=',')\n",
    "    if 'Latitude' in virus_df.columns and 'Longitude' in virus_df.columns:\n",
    "        df_list.append(virus_df)\n",
    "\n",
    "all_df = pd.concat(df_list)\n",
    "\n",
    "(all_df[['Province/State', 'Country/Region', 'Latitude', 'Longitude']]\n",
    " .drop_duplicates(subset=['Province/State', 'Country/Region'])\n",
    " .sort_values(by=['Country/Region', 'Province/State'])\n",
    " .to_csv(os.path.join(PROCESSED_DIR, 'lat_long_table.csv'), index=False))"
   ]
  },
  {
   "cell_type": "markdown",
   "metadata": {},
   "source": [
    "## Construction d'une table unique"
   ]
  },
  {
   "cell_type": "code",
   "execution_count": 13,
   "metadata": {},
   "outputs": [],
   "source": [
    "df_list = []\n",
    "latlong_df=pd.read_csv(os.path.join(PROCESSED_DIR, \"lat_long_table.csv\"))\n",
    "\n",
    "for file in glob.glob(os.path.join(RAWFILES_DIR, \"*.csv\")):\n",
    "    virus_df = pd.read_csv(file, sep=\",\")\n",
    "    if not(\"Latitude\" in virus_df.columns and \"Longitude\" in virus_df.columns): #ça nous interesse et on veut les garder\n",
    "        virus_df = virus_df.merge(latlong_df,on=['Province/State', 'Country/Region'], how='left')\n",
    "\n",
    "    df_list.append(virus_df.assign(source=os.path.basename(file)))\n",
    "    \n",
    "all_df=pd.concat(df_list)\n",
    "\n",
    "all_df.to_csv(os.path.join(PROCESSED_DIR, 'all_data.csv'), index=False)"
   ]
  },
  {
   "cell_type": "code",
   "execution_count": 14,
   "metadata": {},
   "outputs": [
    {
     "data": {
      "text/html": [
       "<div>\n",
       "<style scoped>\n",
       "    .dataframe tbody tr th:only-of-type {\n",
       "        vertical-align: middle;\n",
       "    }\n",
       "\n",
       "    .dataframe tbody tr th {\n",
       "        vertical-align: top;\n",
       "    }\n",
       "\n",
       "    .dataframe thead th {\n",
       "        text-align: right;\n",
       "    }\n",
       "</style>\n",
       "<table border=\"1\" class=\"dataframe\">\n",
       "  <thead>\n",
       "    <tr style=\"text-align: right;\">\n",
       "      <th></th>\n",
       "      <th>Province/State</th>\n",
       "      <th>Country/Region</th>\n",
       "      <th>Last Update</th>\n",
       "      <th>Confirmed</th>\n",
       "      <th>Deaths</th>\n",
       "      <th>Recovered</th>\n",
       "      <th>Latitude</th>\n",
       "      <th>Longitude</th>\n",
       "      <th>source</th>\n",
       "    </tr>\n",
       "  </thead>\n",
       "  <tbody>\n",
       "    <tr>\n",
       "      <th>0</th>\n",
       "      <td>Anhui</td>\n",
       "      <td>Mainland China</td>\n",
       "      <td>2020-01-22 17:00:00</td>\n",
       "      <td>1.0</td>\n",
       "      <td>NaN</td>\n",
       "      <td>NaN</td>\n",
       "      <td>31.8257</td>\n",
       "      <td>117.2264</td>\n",
       "      <td>01-22-2020.csv</td>\n",
       "    </tr>\n",
       "    <tr>\n",
       "      <th>1</th>\n",
       "      <td>Beijing</td>\n",
       "      <td>Mainland China</td>\n",
       "      <td>2020-01-22 17:00:00</td>\n",
       "      <td>14.0</td>\n",
       "      <td>NaN</td>\n",
       "      <td>NaN</td>\n",
       "      <td>40.1824</td>\n",
       "      <td>116.4142</td>\n",
       "      <td>01-22-2020.csv</td>\n",
       "    </tr>\n",
       "    <tr>\n",
       "      <th>2</th>\n",
       "      <td>Chongqing</td>\n",
       "      <td>Mainland China</td>\n",
       "      <td>2020-01-22 17:00:00</td>\n",
       "      <td>6.0</td>\n",
       "      <td>NaN</td>\n",
       "      <td>NaN</td>\n",
       "      <td>30.0572</td>\n",
       "      <td>107.8740</td>\n",
       "      <td>01-22-2020.csv</td>\n",
       "    </tr>\n",
       "    <tr>\n",
       "      <th>3</th>\n",
       "      <td>Fujian</td>\n",
       "      <td>Mainland China</td>\n",
       "      <td>2020-01-22 17:00:00</td>\n",
       "      <td>1.0</td>\n",
       "      <td>NaN</td>\n",
       "      <td>NaN</td>\n",
       "      <td>26.0789</td>\n",
       "      <td>117.9874</td>\n",
       "      <td>01-22-2020.csv</td>\n",
       "    </tr>\n",
       "    <tr>\n",
       "      <th>4</th>\n",
       "      <td>Gansu</td>\n",
       "      <td>Mainland China</td>\n",
       "      <td>2020-01-22 17:00:00</td>\n",
       "      <td>NaN</td>\n",
       "      <td>NaN</td>\n",
       "      <td>NaN</td>\n",
       "      <td>36.0611</td>\n",
       "      <td>103.8343</td>\n",
       "      <td>01-22-2020.csv</td>\n",
       "    </tr>\n",
       "    <tr>\n",
       "      <th>...</th>\n",
       "      <td>...</td>\n",
       "      <td>...</td>\n",
       "      <td>...</td>\n",
       "      <td>...</td>\n",
       "      <td>...</td>\n",
       "      <td>...</td>\n",
       "      <td>...</td>\n",
       "      <td>...</td>\n",
       "      <td>...</td>\n",
       "    </tr>\n",
       "    <tr>\n",
       "      <th>213</th>\n",
       "      <td>Alaska</td>\n",
       "      <td>US</td>\n",
       "      <td>2020-03-10 02:33:04</td>\n",
       "      <td>0.0</td>\n",
       "      <td>0.0</td>\n",
       "      <td>0.0</td>\n",
       "      <td>61.3707</td>\n",
       "      <td>-152.4044</td>\n",
       "      <td>03-12-2020.csv</td>\n",
       "    </tr>\n",
       "    <tr>\n",
       "      <th>214</th>\n",
       "      <td>Idaho</td>\n",
       "      <td>US</td>\n",
       "      <td>2020-03-10 02:33:04</td>\n",
       "      <td>0.0</td>\n",
       "      <td>0.0</td>\n",
       "      <td>0.0</td>\n",
       "      <td>44.2405</td>\n",
       "      <td>-114.4788</td>\n",
       "      <td>03-12-2020.csv</td>\n",
       "    </tr>\n",
       "    <tr>\n",
       "      <th>215</th>\n",
       "      <td>Maine</td>\n",
       "      <td>US</td>\n",
       "      <td>2020-03-10 02:33:04</td>\n",
       "      <td>0.0</td>\n",
       "      <td>0.0</td>\n",
       "      <td>0.0</td>\n",
       "      <td>44.6939</td>\n",
       "      <td>-69.3819</td>\n",
       "      <td>03-12-2020.csv</td>\n",
       "    </tr>\n",
       "    <tr>\n",
       "      <th>216</th>\n",
       "      <td>West Virginia</td>\n",
       "      <td>US</td>\n",
       "      <td>2020-03-10 02:33:04</td>\n",
       "      <td>0.0</td>\n",
       "      <td>0.0</td>\n",
       "      <td>0.0</td>\n",
       "      <td>38.4912</td>\n",
       "      <td>-80.9545</td>\n",
       "      <td>03-12-2020.csv</td>\n",
       "    </tr>\n",
       "    <tr>\n",
       "      <th>217</th>\n",
       "      <td>NaN</td>\n",
       "      <td>occupied Palestinian territory</td>\n",
       "      <td>2020-03-11 20:53:02</td>\n",
       "      <td>0.0</td>\n",
       "      <td>0.0</td>\n",
       "      <td>0.0</td>\n",
       "      <td>31.9522</td>\n",
       "      <td>35.2332</td>\n",
       "      <td>03-12-2020.csv</td>\n",
       "    </tr>\n",
       "  </tbody>\n",
       "</table>\n",
       "<p>5153 rows × 9 columns</p>\n",
       "</div>"
      ],
      "text/plain": [
       "    Province/State                  Country/Region          Last Update  \\\n",
       "0            Anhui                  Mainland China  2020-01-22 17:00:00   \n",
       "1          Beijing                  Mainland China  2020-01-22 17:00:00   \n",
       "2        Chongqing                  Mainland China  2020-01-22 17:00:00   \n",
       "3           Fujian                  Mainland China  2020-01-22 17:00:00   \n",
       "4            Gansu                  Mainland China  2020-01-22 17:00:00   \n",
       "..             ...                             ...                  ...   \n",
       "213         Alaska                              US  2020-03-10 02:33:04   \n",
       "214          Idaho                              US  2020-03-10 02:33:04   \n",
       "215          Maine                              US  2020-03-10 02:33:04   \n",
       "216  West Virginia                              US  2020-03-10 02:33:04   \n",
       "217            NaN  occupied Palestinian territory  2020-03-11 20:53:02   \n",
       "\n",
       "     Confirmed  Deaths  Recovered  Latitude  Longitude          source  \n",
       "0          1.0     NaN        NaN   31.8257   117.2264  01-22-2020.csv  \n",
       "1         14.0     NaN        NaN   40.1824   116.4142  01-22-2020.csv  \n",
       "2          6.0     NaN        NaN   30.0572   107.8740  01-22-2020.csv  \n",
       "3          1.0     NaN        NaN   26.0789   117.9874  01-22-2020.csv  \n",
       "4          NaN     NaN        NaN   36.0611   103.8343  01-22-2020.csv  \n",
       "..         ...     ...        ...       ...        ...             ...  \n",
       "213        0.0     0.0        0.0   61.3707  -152.4044  03-12-2020.csv  \n",
       "214        0.0     0.0        0.0   44.2405  -114.4788  03-12-2020.csv  \n",
       "215        0.0     0.0        0.0   44.6939   -69.3819  03-12-2020.csv  \n",
       "216        0.0     0.0        0.0   38.4912   -80.9545  03-12-2020.csv  \n",
       "217        0.0     0.0        0.0   31.9522    35.2332  03-12-2020.csv  \n",
       "\n",
       "[5153 rows x 9 columns]"
      ]
     },
     "execution_count": 14,
     "metadata": {},
     "output_type": "execute_result"
    }
   ],
   "source": [
    "all_df\n"
   ]
  },
  {
   "cell_type": "code",
   "execution_count": null,
   "metadata": {},
   "outputs": [],
   "source": []
  },
  {
   "cell_type": "code",
   "execution_count": null,
   "metadata": {},
   "outputs": [],
   "source": []
  },
  {
   "cell_type": "code",
   "execution_count": null,
   "metadata": {},
   "outputs": [],
   "source": []
  },
  {
   "cell_type": "code",
   "execution_count": null,
   "metadata": {},
   "outputs": [],
   "source": []
  },
  {
   "cell_type": "code",
   "execution_count": null,
   "metadata": {},
   "outputs": [],
   "source": []
  },
  {
   "cell_type": "code",
   "execution_count": null,
   "metadata": {},
   "outputs": [],
   "source": []
  }
 ],
 "metadata": {
  "kernelspec": {
   "display_name": "Projet Corona (Python)",
   "language": "python",
   "name": "corona"
  },
  "language_info": {
   "codemirror_mode": {
    "name": "ipython",
    "version": 3
   },
   "file_extension": ".py",
   "mimetype": "text/x-python",
   "name": "python",
   "nbconvert_exporter": "python",
   "pygments_lexer": "ipython3",
   "version": "3.8.1"
  }
 },
 "nbformat": 4,
 "nbformat_minor": 2
}
