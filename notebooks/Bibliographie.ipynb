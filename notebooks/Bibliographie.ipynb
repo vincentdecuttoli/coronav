{
 "cells": [
  {
   "cell_type": "markdown",
   "metadata": {},
   "source": [
    "Bibliographie : \n",
    "\n",
    "http://culturemath.ens.fr/maths/html/epidemie/epidemies.html#partie12\n",
    "\n",
    "Modélisation : Propagation d’épidémies\n",
    "Hugo Théveniaut\n",
    "L2-S4 Physique 2019\n",
    "\n",
    "Modéliser la propagation d’une épidémie\n",
    "Hugo Falconet et Antoine Jego\n",
    "sous la direction\n",
    "d’Amandine Veber et Vincent Calvez\n",
    "Juin 2015\n",
    "\n",
    "Dans ces papiers, nous pouvons voir qu'il existe plusieurs modèles de propagation d'épidémies, avec notamment : \n",
    "\n",
    "Le modèle SIR, qui prend en compte les individus sains (S), les individus infectés (I) et R qui correspond aux individus remis, immunisés et les décédés (ils ne répandent plus la maladie),\n",
    "\n",
    "Le modèle XYZA, avec quatre groupes de populations : les sains (X), les infectés (Y), les porteurs sains (Z) et les malades (A),\n",
    "\n",
    "Le moèdèle simple SIS, avec les individus susceptibles d'être infectés (S) et les individus infectés (I)\n",
    "\n",
    "Le modèle SIR est tout de même le plus utilisé et le plus connu."
   ]
  },
  {
   "cell_type": "markdown",
   "metadata": {},
   "source": [
    "Le modèle SIR est déjà utilisé dans le notebook modélisation, c'est également quasiment le seul modèle que l'on peut retrouver sur internet afin d'intégrer ce modèle sur Python"
   ]
  },
  {
   "cell_type": "code",
   "execution_count": null,
   "metadata": {},
   "outputs": [],
   "source": []
  }
 ],
 "metadata": {
  "kernelspec": {
   "display_name": "Python 3",
   "language": "python",
   "name": "python3"
  },
  "language_info": {
   "codemirror_mode": {
    "name": "ipython",
    "version": 3
   },
   "file_extension": ".py",
   "mimetype": "text/x-python",
   "name": "python",
   "nbconvert_exporter": "python",
   "pygments_lexer": "ipython3",
   "version": "3.7.3"
  }
 },
 "nbformat": 4,
 "nbformat_minor": 4
}
